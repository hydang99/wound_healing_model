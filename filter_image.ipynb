{
 "cells": [
  {
   "cell_type": "code",
   "execution_count": 1,
   "id": "4fbd05ec",
   "metadata": {},
   "outputs": [],
   "source": [
    "import os \n",
    "import os.path as osp\n",
    "import glob\n",
    "import re\n",
    "import numpy as np \n",
    "from shutil import copyfile\n",
    "from datetime import datetime"
   ]
  },
  {
   "cell_type": "code",
   "execution_count": 2,
   "id": "e7e24c1a",
   "metadata": {},
   "outputs": [],
   "source": [
    "\"\"\"\n",
    "List set of patients\n",
    "Store information of patients in a dict (id, days, imgs)\n",
    "\"\"\"    \n",
    "PATH =\"dataset/data_origin/Individual patients/\"\n",
    "\"\"\"\n",
    "Filter images from patient_set\"\"\"\n",
    "def patient_set(path):\n",
    "    patients = []\n",
    "    dict_patients = {}\n",
    "    list_img = os.listdir(path)\n",
    "    for i in list_img:\n",
    "        if \"patient\" in i.lower(): \n",
    "            patients.append(i)\n",
    "    for p in patients:\n",
    "        #p_id in -1 position\n",
    "        id = p.split(\" \")[-1]\n",
    "        dict_patients[id] = dict()\n",
    "        p_path = osp.join(path, p)\n",
    "        for i in os.listdir(p_path):\n",
    "            if os.path.isdir(os.path.join(p_path, i)):\n",
    "                p_path = os.path.join(p_path,i)\n",
    "                break\n",
    "        days = []\n",
    "        imgs = []\n",
    "        for img in os.listdir(p_path):\n",
    "            if \"ods\" in img or \"measure\" in img or \"laser\" in img or \"annotated\" in img or \"scaled\" in img or \"depth\" in img:\n",
    "                continue\n",
    "            imgs.append(osp.join(p_path,img))\n",
    "            match = re.search(r'\\d{4}-\\d{2}-\\d{2}', img)\n",
    "            days.append(datetime.strptime(match.group(), '%Y-%m-%d').date())\n",
    "        dict_patients[id][\"days\"] = list(np.unique(days))\n",
    "        dict_patients[id][\"imgs\"] = imgs\n",
    "    return patients, dict_patients"
   ]
  },
  {
   "cell_type": "code",
   "execution_count": 3,
   "id": "dcdc4353",
   "metadata": {},
   "outputs": [],
   "source": [
    "p_set, p_dict = patient_set(PATH)\n"
   ]
  },
  {
   "cell_type": "code",
   "execution_count": 17,
   "id": "ee76607d",
   "metadata": {},
   "outputs": [],
   "source": [
    "def copy_image(p_dict,path_new):\n",
    "    for p in p_dict:\n",
    "        p_path = os.path.join(path_new, p)\n",
    "        if not os.path.exists(p_path):\n",
    "            os.makedirs(p_path,exist_ok = True)\n",
    "        count = dict()\n",
    "        for d in p_dict[p][\"days\"]:\n",
    "            count[str(d)] = 0\n",
    "        for img in p_dict[p][\"imgs\"]:\n",
    "            day = re.search(r'\\d{4}-\\d{2}-\\d{2}', img)\n",
    "            day = datetime.strptime(day.group(), '%Y-%m-%d').date()\n",
    "            if \"jpeg\" in img:\n",
    "                count[str(day)] = 100\n",
    "                copyfile(img, os.path.join(p_path, str(day) + \".jpg\"))\n",
    "            if (str(day)+\".jpg\" in os.listdir(p_path)) and (not count[str(day)] == 100):\n",
    "                count[str(day)] +=1\n",
    "                copyfile(img, os.path.join(p_path, str(day) + \"_index_{}.jpg\".format(count[str(day)])))\n",
    "#             else:\n",
    "#                 count[str(day)] +=1\n",
    "#                 copyfile(img, os.path.join(p_path, str(day) + \"_index_{}.jpg\".format(count[str(day)])))\n",
    "        "
   ]
  },
  {
   "cell_type": "code",
   "execution_count": 18,
   "id": "197db5bf",
   "metadata": {},
   "outputs": [],
   "source": [
    "copy_image(p_dict, \"img_filter_4\")"
   ]
  },
  {
   "cell_type": "code",
   "execution_count": null,
   "id": "70e9f0b3",
   "metadata": {},
   "outputs": [],
   "source": []
  }
 ],
 "metadata": {
  "kernelspec": {
   "display_name": "Python 3",
   "language": "python",
   "name": "python3"
  },
  "language_info": {
   "codemirror_mode": {
    "name": "ipython",
    "version": 3
   },
   "file_extension": ".py",
   "mimetype": "text/x-python",
   "name": "python",
   "nbconvert_exporter": "python",
   "pygments_lexer": "ipython3",
   "version": "3.8.10"
  }
 },
 "nbformat": 4,
 "nbformat_minor": 5
}
