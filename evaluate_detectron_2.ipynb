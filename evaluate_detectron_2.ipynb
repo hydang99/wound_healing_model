{
 "cells": [
  {
   "cell_type": "code",
   "execution_count": 43,
   "id": "12d9d0fa",
   "metadata": {},
   "outputs": [],
   "source": [
    "import os.path as osp\n",
    "import os\n",
    "import random\n",
    "from shutil import copy2\n",
    "import re\n",
    "import numpy as np\n",
    "from datetime import datetime,timedelta\n",
    "import detectron2\n",
    "from detectron2.utils.logger import setup_logger\n",
    "setup_logger()\n",
    "from tqdm.notebook import tqdm\n",
    "import re\n",
    "import numpy as np \n",
    "import cv2 \n",
    "import matplotlib.pyplot as plt \n",
    "import json\n",
    "from detectron2 import model_zoo \n",
    "from detectron2.engine import DefaultPredictor\n",
    "from detectron2.config import get_cfg \n",
    "from detectron2.utils.visualizer import Visualizer \n",
    "from detectron2.data import MetadataCatalog, DatasetCatalog\n",
    "from detectron2.structures import BoxMode\n",
    "from detectron2.data.datasets import register_coco_instances\n",
    "import os.path as osp\n",
    "import os\n",
    "import random\n",
    "from shutil import copy2\n",
    "from detectron2.engine import DefaultTrainer\n",
    "from detectron2.config import get_cfg\n",
    "from PIL import Image\n",
    "import pickle\n",
    "\n",
    "cfg = get_cfg()\n",
    "import os\n",
    "import torch\n",
    "\n",
    "\"\"\"\n",
    "Load Predicted Model\n",
    "\"\"\"\n",
    "cfg.MODEL.DEVICE = \"cpu\"\n",
    "cfg.merge_from_file(model_zoo.get_config_file(\"COCO-InstanceSegmentation/mask_rcnn_R_50_FPN_3x.yaml\"))\n",
    "cfg.MODEL.ROI_HEADS.SCORE_THRESH_TEST = 0.8\n",
    "cfg.DATALOADER.NUM_WORKERS = 2\n",
    "cfg.MODEL.WEIGHTS = model_zoo.get_checkpoint_url(\"COCO-InstanceSegmentation/mask_rcnn_R_50_FPN_3x.yaml\")\n",
    "cfg.SOLVER.IMS_PER_BATCH = 2\n",
    "cfg.MODEL.WEIGHTS = os.path.join(\"/home/hydang/wound_dl_pde/output\", \"model_final.pth\")\n",
    "cfg.MODEL.ROI_HEADS.NUM_CLASSES = 2\n",
    "predictor = DefaultPredictor(cfg)"
   ]
  },
  {
   "cell_type": "code",
   "execution_count": 11,
   "id": "35a85730",
   "metadata": {},
   "outputs": [],
   "source": [
    "# PATH = \"dataset/data_origin/patients_filter/\"\n",
    "# PATH_SAVE = \"dataset/data_origin/predict_img/\"\n",
    "# def predict(path_predict, path_save): \n",
    "#     res = dict()\n",
    "#     for p in tqdm(os.listdir(path_predict)):\n",
    "#         date = []\n",
    "#         if (\".ipynb\" in p): \n",
    "#             continue\n",
    "#         res[p] = dict()\n",
    "#         if not os.path.exists(os.path.join(path_save, p)):\n",
    "#             os.makedirs(os.path.join(path_save, p), exist_ok=True)\n",
    "#         for img in os.listdir(os.path.join(path_predict,p)):\n",
    "#             date.append(re.split('_|\\.',img)[0]) #Sorting date\n",
    "#             date.sort(key=lambda my_date: datetime.strptime(my_date, \"%Y-%m-%d\"))\n",
    "#         if len(date) == 0: \n",
    "#             continue\n",
    "#         min_date = datetime.strptime(date[0],\"%Y-%m-%d\").date()\n",
    "#         for img in os.listdir(os.path.join(path_predict,p)):\n",
    "#             im = cv2.imread(os.path.join(*(path_predict,p,img)))\n",
    "#             im = cv2.resize(im, (512,512))\n",
    "#             outputs = predictor(im)\n",
    "#             for cl in range(len(outputs[\"instances\"].pred_classes)):\n",
    "#                 if outputs[\"instances\"].pred_classes[cl] == 0: \n",
    "#                     out_leg = torch.tensor(outputs[\"instances\"].to(\"cpu\").pred_masks[cl], dtype = torch.uint8)\n",
    "#                     out_leg = out_leg.unsqueeze(2).repeat(1,1,3)\n",
    "#                 else:\n",
    "#                     out_wound = torch.tensor(outputs[\"instances\"].to(\"cpu\").pred_masks[cl], dtype = torch.uint8)*64\n",
    "#                     out_wound = out_wound.unsqueeze(2).repeat(1,1,3)\n",
    "#                     out_leg+=out_wound\n",
    "#             path_name = datetime.strptime(re.split('_|\\.',img)[0],\"%Y-%m-%d\").date()\n",
    "#             if len(re.split('_|\\.',img)) > 2:\n",
    "#                 back_name = \"_\" + \"_\".join(img.split(\"_\")[1: len(img.split(\"_\"))])\n",
    "#             else:\n",
    "#                 back_name = \".\" + img.split(\".\")[1]\n",
    "#             plt.imshow(out_leg)\n",
    "#             cv2.imwrite(os.path.join(*(path_save,p,str((path_name-min_date).days)+back_name)), out_leg.numpy())\n",
    "            \n",
    "            \n"
   ]
  },
  {
   "cell_type": "code",
   "execution_count": 48,
   "id": "b3e4f955",
   "metadata": {},
   "outputs": [],
   "source": [
    "PATH = \"dataset/data_origin/img_filter_4/\"\n",
    "PATH_SAVE = \"dataset/data_origin/img_filter/\"\n",
    "def predict(path_predict, path_save): \n",
    "    res = dict()\n",
    "    for p in tqdm(os.listdir(path_predict)):\n",
    "        date = []\n",
    "        if (\".ipynb\" in p): \n",
    "            continue\n",
    "        res[p] = dict()\n",
    "        if not os.path.exists(os.path.join(path_save, p)):\n",
    "            os.makedirs(os.path.join(path_save, p), exist_ok=True)\n",
    "        for img in os.listdir(os.path.join(path_predict,p)):\n",
    "            date.append(img.split(\".\")[0]) #Sorting date\n",
    "            date.sort(key=lambda my_date: datetime.strptime(my_date, \"%Y-%m-%d\"))\n",
    "        if len(date) == 0: \n",
    "            continue\n",
    "        min_date = datetime.strptime(date[0],\"%Y-%m-%d\").date()\n",
    "        for img in os.listdir(os.path.join(path_predict,p)):\n",
    "            im = cv2.imread(os.path.join(*(path_predict,p,img)))\n",
    "            im = cv2.resize(im, (512,512))\n",
    "            outputs = predictor(im)\n",
    "            results_skin=np.zeros((512,512))\n",
    "            results_leg=np.zeros((512,512))\n",
    "            for cl in range(len(outputs[\"instances\"].pred_classes)):\n",
    "                if outputs[\"instances\"].pred_classes[cl] == 0: \n",
    "                    results_skin = outputs[\"instances\"].to(\"cpu\").pred_masks[cl].long()\n",
    "                else:\n",
    "                    results_leg=outputs[\"instances\"].to(\"cpu\").pred_masks[cl].long()\n",
    "            results = results_skin + 2*results_leg\n",
    "            path_name = datetime.strptime(img.split(\".\")[0],\"%Y-%m-%d\").date()\n",
    "            #plt.imsave(os.path.join(*(path_save,p,str((path_name-min_date).days)+back_name)), results.numpy())\n",
    "            res[p][str((path_name-min_date).days)] = results\n",
    "    return res\n",
    "            \n",
    "            \n"
   ]
  },
  {
   "cell_type": "code",
   "execution_count": 49,
   "id": "99b1c2fa",
   "metadata": {},
   "outputs": [
    {
     "data": {
      "application/vnd.jupyter.widget-view+json": {
       "model_id": "f2acb025e7ef4dedadc485eb69d4cb2c",
       "version_major": 2,
       "version_minor": 0
      },
      "text/plain": [
       "HBox(children=(FloatProgress(value=0.0, max=32.0), HTML(value='')))"
      ]
     },
     "metadata": {},
     "output_type": "display_data"
    },
    {
     "name": "stdout",
     "output_type": "stream",
     "text": [
      "\n"
     ]
    }
   ],
   "source": [
    "res = predict(PATH, PATH_SAVE)"
   ]
  },
  {
   "cell_type": "code",
   "execution_count": 47,
   "id": "de6729bf",
   "metadata": {},
   "outputs": [],
   "source": [
    "output = predictor(cv2.resize(cv2.imread(\"dataset/data_origin/img_filter_4/03015/2010-09-20.jpg\"),(512,512)))\n",
    "results_skin=np.zeros((512,512))\n",
    "results_leg=np.zeros((512,512))\n",
    "for cl in range(len(output[\"instances\"].pred_classes)):\n",
    "    if output[\"instances\"].pred_classes[cl] == 0: \n",
    "        results_skin = output[\"instances\"].to(\"cpu\").pred_masks[cl].long()\n",
    "    else:\n",
    "        results_leg = output[\"instances\"].to(\"cpu\").pred_masks[cl].long()\n",
    "    results = results_skin + 2*results_leg"
   ]
  },
  {
   "cell_type": "code",
   "execution_count": 46,
   "id": "65f2cc94",
   "metadata": {},
   "outputs": [
    {
     "data": {
      "text/plain": [
       "{'instances': Instances(num_instances=3, image_height=512, image_width=512, fields=[pred_boxes: Boxes(tensor([[  0.0000,  23.7497, 509.6065, 484.4092],\n",
       "         [167.1090, 213.0085, 331.3503, 272.6375],\n",
       "         [182.7133, 220.8427, 244.2321, 263.4589]])), scores: tensor([0.9879, 0.8787, 0.8627]), pred_classes: tensor([0, 1, 1]), pred_masks: tensor([[[False, False, False,  ..., False, False, False],\n",
       "          [False, False, False,  ..., False, False, False],\n",
       "          [False, False, False,  ..., False, False, False],\n",
       "          ...,\n",
       "          [False, False, False,  ..., False, False, False],\n",
       "          [False, False, False,  ..., False, False, False],\n",
       "          [False, False, False,  ..., False, False, False]],\n",
       " \n",
       "         [[False, False, False,  ..., False, False, False],\n",
       "          [False, False, False,  ..., False, False, False],\n",
       "          [False, False, False,  ..., False, False, False],\n",
       "          ...,\n",
       "          [False, False, False,  ..., False, False, False],\n",
       "          [False, False, False,  ..., False, False, False],\n",
       "          [False, False, False,  ..., False, False, False]],\n",
       " \n",
       "         [[False, False, False,  ..., False, False, False],\n",
       "          [False, False, False,  ..., False, False, False],\n",
       "          [False, False, False,  ..., False, False, False],\n",
       "          ...,\n",
       "          [False, False, False,  ..., False, False, False],\n",
       "          [False, False, False,  ..., False, False, False],\n",
       "          [False, False, False,  ..., False, False, False]]])])}"
      ]
     },
     "execution_count": 46,
     "metadata": {},
     "output_type": "execute_result"
    }
   ],
   "source": [
    "output"
   ]
  },
  {
   "cell_type": "code",
   "execution_count": 50,
   "id": "0d6d4734",
   "metadata": {},
   "outputs": [],
   "source": [
    "import pickle\n",
    "with open(\"predicted.pickle\",\"wb\") as f:\n",
    "    pickle.dump(res, f)"
   ]
  },
  {
   "cell_type": "code",
   "execution_count": 6,
   "id": "9f2dd3b9",
   "metadata": {},
   "outputs": [
    {
     "ename": "NameError",
     "evalue": "name 'dict_patients' is not defined",
     "output_type": "error",
     "traceback": [
      "\u001b[0;31m---------------------------------------------------------------------------\u001b[0m",
      "\u001b[0;31mNameError\u001b[0m                                 Traceback (most recent call last)",
      "\u001b[0;32m<ipython-input-6-f694832d412d>\u001b[0m in \u001b[0;36m<module>\u001b[0;34m\u001b[0m\n\u001b[0;32m----> 1\u001b[0;31m \u001b[0mdict_patients\u001b[0m\u001b[0;34m[\u001b[0m\u001b[0;34m\"25-004\"\u001b[0m\u001b[0;34m]\u001b[0m\u001b[0;34m\u001b[0m\u001b[0;34m\u001b[0m\u001b[0m\n\u001b[0m",
      "\u001b[0;31mNameError\u001b[0m: name 'dict_patients' is not defined"
     ]
    }
   ],
   "source": [
    "dict_patients[\"25-004\"]"
   ]
  },
  {
   "cell_type": "code",
   "execution_count": 7,
   "id": "aa8192bd",
   "metadata": {},
   "outputs": [
    {
     "ename": "SyntaxError",
     "evalue": "invalid syntax (<ipython-input-7-d6d519ee05ce>, line 14)",
     "output_type": "error",
     "traceback": [
      "\u001b[0;36m  File \u001b[0;32m\"<ipython-input-7-d6d519ee05ce>\"\u001b[0;36m, line \u001b[0;32m14\u001b[0m\n\u001b[0;31m    for in\u001b[0m\n\u001b[0m        ^\u001b[0m\n\u001b[0;31mSyntaxError\u001b[0m\u001b[0;31m:\u001b[0m invalid syntax\n"
     ]
    }
   ],
   "source": [
    "import os\n",
    "import torch\n",
    "# cfg.MODEL.WEIGHTS = os.path.join(cfg.OUTPUT_DIR, \"model_final.pth\")\n",
    "cfg.MODEL.ROI_HEADS.SCORE_THRESH_TEST = 0.8\n",
    "# predictor = DefaultPredictor(cfg)\n",
    "from detectron2.utils.visualizer import ColorMode\n",
    "for patient in dict_patients.keys():\n",
    "    p = dict_patients[patient]\n",
    "    for img in p[\"imgs\"]:\n",
    "        im = cv2.imread(img)\n",
    "        im = cv2.resize(im, (512,512))\n",
    "        outputs = predictor(im)\n",
    "        t_plot_leg = outputs[\"instances\"].to(\"cpu\").pred_masks[0].long()\n",
    "        for in\n",
    "        if len(outputs[\"instances\"].scores) > 2:\n",
    "            print(outputs[\"instances\"])\n",
    "            print (\"clmm\")\n",
    "#         if len(outputs[\"instances\"].scores) != 1:\n",
    "#             t_plot_wound = outputs[\"instances\"].to(\"cpu\").pred_masks[1].long()\n",
    "#             plt.imshow(t_plot_leg.numpy()+ t_plot_wound.numpy()*2)\n",
    "#         else:\n",
    "#             plt.imshow(t_plot_leg.numpy())\n",
    "        #plt.plot(torch.reshape(outputs[\"instances\"].to(\"cpu\").pred_masks[0],(512,512)))\n",
    "#         plt.figure(figsize = (14, 10))\n",
    "# #         plt.imshow(cv2.cvtColor(v.get_image()[:, :, ::-1], cv2.COLOR_BGR2RGB))\n",
    "#         plt.show() "
   ]
  },
  {
   "cell_type": "code",
   "execution_count": 26,
   "id": "a11e972f",
   "metadata": {},
   "outputs": [
    {
     "data": {
      "text/plain": [
       "tensor([[1, 2],\n",
       "        [3, 4]])"
      ]
     },
     "execution_count": 26,
     "metadata": {},
     "output_type": "execute_result"
    }
   ],
   "source": [
    "x = torch.tensor([[1,2],[3,4]])\n",
    "x.unsqueeze(2).repeat(1,1,2)"
   ]
  },
  {
   "cell_type": "code",
   "execution_count": null,
   "id": "3c0e2b0e",
   "metadata": {},
   "outputs": [],
   "source": [
    "from detectron2.data import DatasetCatalog, MetadataCatalog\n",
    "for d in [\"train\", \"valid\", \"test\"]:\n",
    "    DatasetCatalog.register(\"wound_\" + d, lambda d=d: get_wound_dict(path[d]))\n",
    "    MetadataCatalog.get(\"wound_\" + d).set(thing_classes=['leg','wound'])\n",
    "wound_metadata = MetadataCatalog.get(\"wound_train\")"
   ]
  },
  {
   "cell_type": "code",
   "execution_count": 33,
   "id": "4d7903a4",
   "metadata": {},
   "outputs": [
    {
     "name": "stdout",
     "output_type": "stream",
     "text": [
      "/home/hydang/wound_dl_pde\r\n"
     ]
    }
   ],
   "source": [
    "!pwd"
   ]
  },
  {
   "cell_type": "code",
   "execution_count": 81,
   "id": "8ed30831",
   "metadata": {},
   "outputs": [
    {
     "data": {
      "text/plain": [
       "array([[[255, 255, 255],\n",
       "        [255, 255, 255],\n",
       "        [255, 255, 255],\n",
       "        ...,\n",
       "        [255, 255, 255],\n",
       "        [255, 255, 255],\n",
       "        [255, 255, 255]],\n",
       "\n",
       "       [[255, 255, 255],\n",
       "        [  0,  81,  81],\n",
       "        [  0,  81,  81],\n",
       "        ...,\n",
       "        [  0,  81,  81],\n",
       "        [  0,  81,  81],\n",
       "        [255, 255, 255]],\n",
       "\n",
       "       [[255, 255, 255],\n",
       "        [  0,  81,  81],\n",
       "        [  0,  81,  81],\n",
       "        ...,\n",
       "        [  0,  81,  81],\n",
       "        [  0,  81,  81],\n",
       "        [255, 255, 255]],\n",
       "\n",
       "       ...,\n",
       "\n",
       "       [[255, 255, 255],\n",
       "        [  0,  81,  81],\n",
       "        [  0,  81,  81],\n",
       "        ...,\n",
       "        [128, 128, 128],\n",
       "        [128, 128, 128],\n",
       "        [255, 255, 255]],\n",
       "\n",
       "       [[255, 255, 255],\n",
       "        [  0,  81,  81],\n",
       "        [  0,  81,  81],\n",
       "        ...,\n",
       "        [128, 128, 128],\n",
       "        [128, 128, 128],\n",
       "        [255, 255, 255]],\n",
       "\n",
       "       [[255, 255, 255],\n",
       "        [255, 255, 255],\n",
       "        [255, 255, 255],\n",
       "        ...,\n",
       "        [255, 255, 255],\n",
       "        [255, 255, 255],\n",
       "        [255, 255, 255]]], dtype=uint8)"
      ]
     },
     "execution_count": 81,
     "metadata": {},
     "output_type": "execute_result"
    }
   ],
   "source": [
    "np.unique(cv2.imread(\"pde/segmented_images/03015/0_color_mask.png\"),axis =2)"
   ]
  },
  {
   "cell_type": "code",
   "execution_count": null,
   "id": "7f8661bf",
   "metadata": {},
   "outputs": [],
   "source": [
    "counter = np.unique(out_leg.reshape(-1, out_leg.shape[2]), axis=0)\n",
    "print(counter)"
   ]
  },
  {
   "cell_type": "code",
   "execution_count": null,
   "id": "dc9328fc",
   "metadata": {},
   "outputs": [],
   "source": [
    "128 128 128 #leg\n",
    "255 255 255 #background\n",
    "81 0 81 #background"
   ]
  }
 ],
 "metadata": {
  "kernelspec": {
   "display_name": "Python 3",
   "language": "python",
   "name": "python3"
  },
  "language_info": {
   "codemirror_mode": {
    "name": "ipython",
    "version": 3
   },
   "file_extension": ".py",
   "mimetype": "text/x-python",
   "name": "python",
   "nbconvert_exporter": "python",
   "pygments_lexer": "ipython3",
   "version": "3.8.10"
  }
 },
 "nbformat": 4,
 "nbformat_minor": 5
}
